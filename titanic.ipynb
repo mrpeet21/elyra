{
 "cells": [
  {
   "cell_type": "code",
   "execution_count": null,
   "id": "e621adec-4d79-4b21-a6f9-75da66fb358d",
   "metadata": {
    "papermill": {
     "duration": 0.003999,
     "end_time": "2024-01-28T14:03:48.970445",
     "exception": false,
     "start_time": "2024-01-28T14:03:48.966446",
     "status": "completed"
    },
    "tags": []
   },
   "outputs": [],
   "source": []
  }
 ],
 "metadata": {
  "kernelspec": {
   "display_name": "Python 3 (ipykernel)",
   "language": "python",
   "name": "python3"
  },
  "language_info": {
   "codemirror_mode": {
    "name": "ipython",
    "version": 3
   },
   "file_extension": ".py",
   "mimetype": "text/x-python",
   "name": "python",
   "nbconvert_exporter": "python",
   "pygments_lexer": "ipython3",
   "version": "3.10.7"
  },
  "papermill": {
   "default_parameters": {},
   "duration": 5.086637,
   "end_time": "2024-01-28T14:03:49.350472",
   "environment_variables": {},
   "exception": null,
   "input_path": "C:\\Users\\Пк\\PycharmProjects\\pythonProject11\\elyra titanic\\titanic.ipynb",
   "output_path": "C:\\Users\\Пк\\PycharmProjects\\pythonProject11\\elyra titanic\\titanic.ipynb",
   "parameters": {},
   "start_time": "2024-01-28T14:03:44.263835",
   "version": "2.5.0"
  }
 },
 "nbformat": 4,
 "nbformat_minor": 5
}