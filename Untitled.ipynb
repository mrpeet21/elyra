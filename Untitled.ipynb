{
 "cells": [
  {
   "cell_type": "code",
   "execution_count": null,
   "id": "41601506-66e2-43fc-a5c7-7749759c41ae",
   "metadata": {
    "papermill": {
     "duration": 0.004002,
     "end_time": "2024-01-28T14:03:53.559488",
     "exception": false,
     "start_time": "2024-01-28T14:03:53.555486",
     "status": "completed"
    },
    "tags": []
   },
   "outputs": [],
   "source": []
  }
 ],
 "metadata": {
  "kernelspec": {
   "display_name": "Python 3 (ipykernel)",
   "language": "python",
   "name": "python3"
  },
  "language_info": {
   "codemirror_mode": {
    "name": "ipython",
    "version": 3
   },
   "file_extension": ".py",
   "mimetype": "text/x-python",
   "name": "python",
   "nbconvert_exporter": "python",
   "pygments_lexer": "ipython3",
   "version": "3.10.7"
  },
  "papermill": {
   "default_parameters": {},
   "duration": 4.618645,
   "end_time": "2024-01-28T14:03:54.016119",
   "environment_variables": {},
   "exception": null,
   "input_path": "C:\\Users\\Пк\\PycharmProjects\\pythonProject11\\elyra titanic\\Untitled.ipynb",
   "output_path": "C:\\Users\\Пк\\PycharmProjects\\pythonProject11\\elyra titanic\\Untitled.ipynb",
   "parameters": {},
   "start_time": "2024-01-28T14:03:49.397474",
   "version": "2.5.0"
  }
 },
 "nbformat": 4,
 "nbformat_minor": 5
}